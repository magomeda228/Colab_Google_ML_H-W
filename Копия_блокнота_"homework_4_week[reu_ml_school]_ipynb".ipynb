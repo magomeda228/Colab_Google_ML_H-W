{
  "nbformat": 4,
  "nbformat_minor": 0,
  "metadata": {
    "colab": {
      "provenance": [],
      "include_colab_link": true
    },
    "kernelspec": {
      "name": "python3",
      "display_name": "Python 3"
    },
    "language_info": {
      "name": "python"
    }
  },
  "cells": [
    {
      "cell_type": "markdown",
      "metadata": {
        "id": "view-in-github",
        "colab_type": "text"
      },
      "source": [
        "<a href=\"https://colab.research.google.com/github/magomeda228/Colab_Google_ML_H-W/blob/main/%D0%9A%D0%BE%D0%BF%D0%B8%D1%8F_%D0%B1%D0%BB%D0%BE%D0%BA%D0%BD%D0%BE%D1%82%D0%B0_%22homework_4_week%5Breu_ml_school%5D_ipynb%22.ipynb\" target=\"_parent\"><img src=\"https://colab.research.google.com/assets/colab-badge.svg\" alt=\"Open In Colab\"/></a>"
      ]
    },
    {
      "cell_type": "markdown",
      "source": [
        "# <center>**ML School by REU Data Scinece Club**</center>\n",
        "\n",
        "---\n",
        "## <center> Неделя №4 </center>\n"
      ],
      "metadata": {
        "id": "QWjiOr9XkQ61"
      }
    },
    {
      "cell_type": "markdown",
      "source": [
        "На этой неделе вам предстоит написать свою логистическую регрессию на чистом numpy и оптимизировать ее спомощью градиентного спуска. Сторонние биболетки (например, если знакомы с Torch) для вычисления использовать нельзя"
      ],
      "metadata": {
        "id": "Oo0jo4Y3kUor"
      }
    },
    {
      "cell_type": "markdown",
      "source": [
        "Импортируем библиотеки, которые могут вам понадобиться, а затем загрузим данные"
      ],
      "metadata": {
        "id": "Bd12XvWWkk8G"
      }
    },
    {
      "cell_type": "code",
      "source": [
        "import numpy as np\n",
        "import pandas as pd\n",
        "\n",
        "from sklearn.model_selection import train_test_split\n",
        "from sklearn.metrics import f1_score"
      ],
      "metadata": {
        "id": "wA-FYP50kf5f"
      },
      "execution_count": 1,
      "outputs": []
    },
    {
      "cell_type": "markdown",
      "source": [
        "Мы возьмем синтетические данные (созданные нами искутсвенно). Эти данные не нуждаются в обратботке"
      ],
      "metadata": {
        "id": "zKVOtf3ro0LR"
      }
    },
    {
      "cell_type": "code",
      "source": [
        "!git clone https://github.com/MeinRespect/REU-Ml-SCHOOL.git"
      ],
      "metadata": {
        "id": "z4bTlAsODdRU",
        "colab": {
          "base_uri": "https://localhost:8080/"
        },
        "outputId": "108b1e33-25aa-4f7e-934d-e196b460f866"
      },
      "execution_count": 2,
      "outputs": [
        {
          "output_type": "stream",
          "name": "stdout",
          "text": [
            "Cloning into 'REU-Ml-SCHOOL'...\n",
            "remote: Enumerating objects: 20, done.\u001b[K\n",
            "remote: Counting objects: 100% (20/20), done.\u001b[K\n",
            "remote: Compressing objects: 100% (19/19), done.\u001b[K\n",
            "remote: Total 20 (delta 4), reused 0 (delta 0), pack-reused 0 (from 0)\u001b[K\n",
            "Receiving objects: 100% (20/20), 14.94 MiB | 5.11 MiB/s, done.\n",
            "Resolving deltas: 100% (4/4), done.\n",
            "Updating files: 100% (7/7), done.\n"
          ]
        }
      ]
    },
    {
      "cell_type": "code",
      "source": [
        "df = pd.read_csv('/content/REU-Ml-SCHOOL/simple_data_for_linear_regression.csv',\n",
        "                 index_col='Unnamed: 0')\n",
        "\n",
        "df.head(10)"
      ],
      "metadata": {
        "colab": {
          "base_uri": "https://localhost:8080/",
          "height": 363
        },
        "id": "NsDCr50QlDMD",
        "outputId": "3460fcf3-6397-44d6-c3e3-4478bfaa1edd"
      },
      "execution_count": 3,
      "outputs": [
        {
          "output_type": "execute_result",
          "data": {
            "text/plain": [
              "          1         2         3         4         5         6         7  \\\n",
              "0 -0.825654  0.996750  2.172271  0.296957 -0.463338 -0.349884  2.511452   \n",
              "1 -0.557834  0.160590  0.286331 -0.041377 -1.448752  0.027275  0.048385   \n",
              "2  0.309318 -0.638823  0.937555  1.098689  2.917309 -0.305654  0.647202   \n",
              "3  0.814625 -1.468853 -2.514925 -0.247016  0.276103 -0.445736  0.393316   \n",
              "4  0.529211  1.362208  0.026132  1.244459  0.165382  0.625437 -1.267929   \n",
              "5 -0.140911 -1.729456 -0.254853  0.259032 -0.661892 -0.691096  1.171270   \n",
              "6 -0.962663 -0.990447 -1.106779  1.147607 -1.251957  0.127369 -1.557314   \n",
              "7  2.018122  0.725902  0.144987 -0.316239 -0.621207  0.092930  0.348007   \n",
              "8 -0.017818  0.785941  0.457947  0.146765 -0.600139  0.095527  0.398463   \n",
              "9 -0.614641  1.036744  0.581185 -1.217846  0.120342  0.505202 -1.089338   \n",
              "\n",
              "          8         9  Target  \n",
              "0 -0.928644 -2.778066       1  \n",
              "1 -0.764340 -0.049713       1  \n",
              "2 -0.108898 -0.740039       0  \n",
              "3  1.142564 -0.478847       0  \n",
              "4  0.604447  1.452787       1  \n",
              "5  0.186937 -1.354727       0  \n",
              "6  0.895921  1.712605       0  \n",
              "7 -2.453892 -0.369115       1  \n",
              "8  0.572963 -0.423850       0  \n",
              "9 -0.163125  1.244560       1  "
            ],
            "text/html": [
              "\n",
              "  <div id=\"df-c57d35fd-4ab3-462a-a6af-87ef5cee14b5\" class=\"colab-df-container\">\n",
              "    <div>\n",
              "<style scoped>\n",
              "    .dataframe tbody tr th:only-of-type {\n",
              "        vertical-align: middle;\n",
              "    }\n",
              "\n",
              "    .dataframe tbody tr th {\n",
              "        vertical-align: top;\n",
              "    }\n",
              "\n",
              "    .dataframe thead th {\n",
              "        text-align: right;\n",
              "    }\n",
              "</style>\n",
              "<table border=\"1\" class=\"dataframe\">\n",
              "  <thead>\n",
              "    <tr style=\"text-align: right;\">\n",
              "      <th></th>\n",
              "      <th>1</th>\n",
              "      <th>2</th>\n",
              "      <th>3</th>\n",
              "      <th>4</th>\n",
              "      <th>5</th>\n",
              "      <th>6</th>\n",
              "      <th>7</th>\n",
              "      <th>8</th>\n",
              "      <th>9</th>\n",
              "      <th>Target</th>\n",
              "    </tr>\n",
              "  </thead>\n",
              "  <tbody>\n",
              "    <tr>\n",
              "      <th>0</th>\n",
              "      <td>-0.825654</td>\n",
              "      <td>0.996750</td>\n",
              "      <td>2.172271</td>\n",
              "      <td>0.296957</td>\n",
              "      <td>-0.463338</td>\n",
              "      <td>-0.349884</td>\n",
              "      <td>2.511452</td>\n",
              "      <td>-0.928644</td>\n",
              "      <td>-2.778066</td>\n",
              "      <td>1</td>\n",
              "    </tr>\n",
              "    <tr>\n",
              "      <th>1</th>\n",
              "      <td>-0.557834</td>\n",
              "      <td>0.160590</td>\n",
              "      <td>0.286331</td>\n",
              "      <td>-0.041377</td>\n",
              "      <td>-1.448752</td>\n",
              "      <td>0.027275</td>\n",
              "      <td>0.048385</td>\n",
              "      <td>-0.764340</td>\n",
              "      <td>-0.049713</td>\n",
              "      <td>1</td>\n",
              "    </tr>\n",
              "    <tr>\n",
              "      <th>2</th>\n",
              "      <td>0.309318</td>\n",
              "      <td>-0.638823</td>\n",
              "      <td>0.937555</td>\n",
              "      <td>1.098689</td>\n",
              "      <td>2.917309</td>\n",
              "      <td>-0.305654</td>\n",
              "      <td>0.647202</td>\n",
              "      <td>-0.108898</td>\n",
              "      <td>-0.740039</td>\n",
              "      <td>0</td>\n",
              "    </tr>\n",
              "    <tr>\n",
              "      <th>3</th>\n",
              "      <td>0.814625</td>\n",
              "      <td>-1.468853</td>\n",
              "      <td>-2.514925</td>\n",
              "      <td>-0.247016</td>\n",
              "      <td>0.276103</td>\n",
              "      <td>-0.445736</td>\n",
              "      <td>0.393316</td>\n",
              "      <td>1.142564</td>\n",
              "      <td>-0.478847</td>\n",
              "      <td>0</td>\n",
              "    </tr>\n",
              "    <tr>\n",
              "      <th>4</th>\n",
              "      <td>0.529211</td>\n",
              "      <td>1.362208</td>\n",
              "      <td>0.026132</td>\n",
              "      <td>1.244459</td>\n",
              "      <td>0.165382</td>\n",
              "      <td>0.625437</td>\n",
              "      <td>-1.267929</td>\n",
              "      <td>0.604447</td>\n",
              "      <td>1.452787</td>\n",
              "      <td>1</td>\n",
              "    </tr>\n",
              "    <tr>\n",
              "      <th>5</th>\n",
              "      <td>-0.140911</td>\n",
              "      <td>-1.729456</td>\n",
              "      <td>-0.254853</td>\n",
              "      <td>0.259032</td>\n",
              "      <td>-0.661892</td>\n",
              "      <td>-0.691096</td>\n",
              "      <td>1.171270</td>\n",
              "      <td>0.186937</td>\n",
              "      <td>-1.354727</td>\n",
              "      <td>0</td>\n",
              "    </tr>\n",
              "    <tr>\n",
              "      <th>6</th>\n",
              "      <td>-0.962663</td>\n",
              "      <td>-0.990447</td>\n",
              "      <td>-1.106779</td>\n",
              "      <td>1.147607</td>\n",
              "      <td>-1.251957</td>\n",
              "      <td>0.127369</td>\n",
              "      <td>-1.557314</td>\n",
              "      <td>0.895921</td>\n",
              "      <td>1.712605</td>\n",
              "      <td>0</td>\n",
              "    </tr>\n",
              "    <tr>\n",
              "      <th>7</th>\n",
              "      <td>2.018122</td>\n",
              "      <td>0.725902</td>\n",
              "      <td>0.144987</td>\n",
              "      <td>-0.316239</td>\n",
              "      <td>-0.621207</td>\n",
              "      <td>0.092930</td>\n",
              "      <td>0.348007</td>\n",
              "      <td>-2.453892</td>\n",
              "      <td>-0.369115</td>\n",
              "      <td>1</td>\n",
              "    </tr>\n",
              "    <tr>\n",
              "      <th>8</th>\n",
              "      <td>-0.017818</td>\n",
              "      <td>0.785941</td>\n",
              "      <td>0.457947</td>\n",
              "      <td>0.146765</td>\n",
              "      <td>-0.600139</td>\n",
              "      <td>0.095527</td>\n",
              "      <td>0.398463</td>\n",
              "      <td>0.572963</td>\n",
              "      <td>-0.423850</td>\n",
              "      <td>0</td>\n",
              "    </tr>\n",
              "    <tr>\n",
              "      <th>9</th>\n",
              "      <td>-0.614641</td>\n",
              "      <td>1.036744</td>\n",
              "      <td>0.581185</td>\n",
              "      <td>-1.217846</td>\n",
              "      <td>0.120342</td>\n",
              "      <td>0.505202</td>\n",
              "      <td>-1.089338</td>\n",
              "      <td>-0.163125</td>\n",
              "      <td>1.244560</td>\n",
              "      <td>1</td>\n",
              "    </tr>\n",
              "  </tbody>\n",
              "</table>\n",
              "</div>\n",
              "    <div class=\"colab-df-buttons\">\n",
              "\n",
              "  <div class=\"colab-df-container\">\n",
              "    <button class=\"colab-df-convert\" onclick=\"convertToInteractive('df-c57d35fd-4ab3-462a-a6af-87ef5cee14b5')\"\n",
              "            title=\"Convert this dataframe to an interactive table.\"\n",
              "            style=\"display:none;\">\n",
              "\n",
              "  <svg xmlns=\"http://www.w3.org/2000/svg\" height=\"24px\" viewBox=\"0 -960 960 960\">\n",
              "    <path d=\"M120-120v-720h720v720H120Zm60-500h600v-160H180v160Zm220 220h160v-160H400v160Zm0 220h160v-160H400v160ZM180-400h160v-160H180v160Zm440 0h160v-160H620v160ZM180-180h160v-160H180v160Zm440 0h160v-160H620v160Z\"/>\n",
              "  </svg>\n",
              "    </button>\n",
              "\n",
              "  <style>\n",
              "    .colab-df-container {\n",
              "      display:flex;\n",
              "      gap: 12px;\n",
              "    }\n",
              "\n",
              "    .colab-df-convert {\n",
              "      background-color: #E8F0FE;\n",
              "      border: none;\n",
              "      border-radius: 50%;\n",
              "      cursor: pointer;\n",
              "      display: none;\n",
              "      fill: #1967D2;\n",
              "      height: 32px;\n",
              "      padding: 0 0 0 0;\n",
              "      width: 32px;\n",
              "    }\n",
              "\n",
              "    .colab-df-convert:hover {\n",
              "      background-color: #E2EBFA;\n",
              "      box-shadow: 0px 1px 2px rgba(60, 64, 67, 0.3), 0px 1px 3px 1px rgba(60, 64, 67, 0.15);\n",
              "      fill: #174EA6;\n",
              "    }\n",
              "\n",
              "    .colab-df-buttons div {\n",
              "      margin-bottom: 4px;\n",
              "    }\n",
              "\n",
              "    [theme=dark] .colab-df-convert {\n",
              "      background-color: #3B4455;\n",
              "      fill: #D2E3FC;\n",
              "    }\n",
              "\n",
              "    [theme=dark] .colab-df-convert:hover {\n",
              "      background-color: #434B5C;\n",
              "      box-shadow: 0px 1px 3px 1px rgba(0, 0, 0, 0.15);\n",
              "      filter: drop-shadow(0px 1px 2px rgba(0, 0, 0, 0.3));\n",
              "      fill: #FFFFFF;\n",
              "    }\n",
              "  </style>\n",
              "\n",
              "    <script>\n",
              "      const buttonEl =\n",
              "        document.querySelector('#df-c57d35fd-4ab3-462a-a6af-87ef5cee14b5 button.colab-df-convert');\n",
              "      buttonEl.style.display =\n",
              "        google.colab.kernel.accessAllowed ? 'block' : 'none';\n",
              "\n",
              "      async function convertToInteractive(key) {\n",
              "        const element = document.querySelector('#df-c57d35fd-4ab3-462a-a6af-87ef5cee14b5');\n",
              "        const dataTable =\n",
              "          await google.colab.kernel.invokeFunction('convertToInteractive',\n",
              "                                                    [key], {});\n",
              "        if (!dataTable) return;\n",
              "\n",
              "        const docLinkHtml = 'Like what you see? Visit the ' +\n",
              "          '<a target=\"_blank\" href=https://colab.research.google.com/notebooks/data_table.ipynb>data table notebook</a>'\n",
              "          + ' to learn more about interactive tables.';\n",
              "        element.innerHTML = '';\n",
              "        dataTable['output_type'] = 'display_data';\n",
              "        await google.colab.output.renderOutput(dataTable, element);\n",
              "        const docLink = document.createElement('div');\n",
              "        docLink.innerHTML = docLinkHtml;\n",
              "        element.appendChild(docLink);\n",
              "      }\n",
              "    </script>\n",
              "  </div>\n",
              "\n",
              "\n",
              "<div id=\"df-8b99f169-681e-49f7-ada8-fd96d9c44581\">\n",
              "  <button class=\"colab-df-quickchart\" onclick=\"quickchart('df-8b99f169-681e-49f7-ada8-fd96d9c44581')\"\n",
              "            title=\"Suggest charts\"\n",
              "            style=\"display:none;\">\n",
              "\n",
              "<svg xmlns=\"http://www.w3.org/2000/svg\" height=\"24px\"viewBox=\"0 0 24 24\"\n",
              "     width=\"24px\">\n",
              "    <g>\n",
              "        <path d=\"M19 3H5c-1.1 0-2 .9-2 2v14c0 1.1.9 2 2 2h14c1.1 0 2-.9 2-2V5c0-1.1-.9-2-2-2zM9 17H7v-7h2v7zm4 0h-2V7h2v10zm4 0h-2v-4h2v4z\"/>\n",
              "    </g>\n",
              "</svg>\n",
              "  </button>\n",
              "\n",
              "<style>\n",
              "  .colab-df-quickchart {\n",
              "      --bg-color: #E8F0FE;\n",
              "      --fill-color: #1967D2;\n",
              "      --hover-bg-color: #E2EBFA;\n",
              "      --hover-fill-color: #174EA6;\n",
              "      --disabled-fill-color: #AAA;\n",
              "      --disabled-bg-color: #DDD;\n",
              "  }\n",
              "\n",
              "  [theme=dark] .colab-df-quickchart {\n",
              "      --bg-color: #3B4455;\n",
              "      --fill-color: #D2E3FC;\n",
              "      --hover-bg-color: #434B5C;\n",
              "      --hover-fill-color: #FFFFFF;\n",
              "      --disabled-bg-color: #3B4455;\n",
              "      --disabled-fill-color: #666;\n",
              "  }\n",
              "\n",
              "  .colab-df-quickchart {\n",
              "    background-color: var(--bg-color);\n",
              "    border: none;\n",
              "    border-radius: 50%;\n",
              "    cursor: pointer;\n",
              "    display: none;\n",
              "    fill: var(--fill-color);\n",
              "    height: 32px;\n",
              "    padding: 0;\n",
              "    width: 32px;\n",
              "  }\n",
              "\n",
              "  .colab-df-quickchart:hover {\n",
              "    background-color: var(--hover-bg-color);\n",
              "    box-shadow: 0 1px 2px rgba(60, 64, 67, 0.3), 0 1px 3px 1px rgba(60, 64, 67, 0.15);\n",
              "    fill: var(--button-hover-fill-color);\n",
              "  }\n",
              "\n",
              "  .colab-df-quickchart-complete:disabled,\n",
              "  .colab-df-quickchart-complete:disabled:hover {\n",
              "    background-color: var(--disabled-bg-color);\n",
              "    fill: var(--disabled-fill-color);\n",
              "    box-shadow: none;\n",
              "  }\n",
              "\n",
              "  .colab-df-spinner {\n",
              "    border: 2px solid var(--fill-color);\n",
              "    border-color: transparent;\n",
              "    border-bottom-color: var(--fill-color);\n",
              "    animation:\n",
              "      spin 1s steps(1) infinite;\n",
              "  }\n",
              "\n",
              "  @keyframes spin {\n",
              "    0% {\n",
              "      border-color: transparent;\n",
              "      border-bottom-color: var(--fill-color);\n",
              "      border-left-color: var(--fill-color);\n",
              "    }\n",
              "    20% {\n",
              "      border-color: transparent;\n",
              "      border-left-color: var(--fill-color);\n",
              "      border-top-color: var(--fill-color);\n",
              "    }\n",
              "    30% {\n",
              "      border-color: transparent;\n",
              "      border-left-color: var(--fill-color);\n",
              "      border-top-color: var(--fill-color);\n",
              "      border-right-color: var(--fill-color);\n",
              "    }\n",
              "    40% {\n",
              "      border-color: transparent;\n",
              "      border-right-color: var(--fill-color);\n",
              "      border-top-color: var(--fill-color);\n",
              "    }\n",
              "    60% {\n",
              "      border-color: transparent;\n",
              "      border-right-color: var(--fill-color);\n",
              "    }\n",
              "    80% {\n",
              "      border-color: transparent;\n",
              "      border-right-color: var(--fill-color);\n",
              "      border-bottom-color: var(--fill-color);\n",
              "    }\n",
              "    90% {\n",
              "      border-color: transparent;\n",
              "      border-bottom-color: var(--fill-color);\n",
              "    }\n",
              "  }\n",
              "</style>\n",
              "\n",
              "  <script>\n",
              "    async function quickchart(key) {\n",
              "      const quickchartButtonEl =\n",
              "        document.querySelector('#' + key + ' button');\n",
              "      quickchartButtonEl.disabled = true;  // To prevent multiple clicks.\n",
              "      quickchartButtonEl.classList.add('colab-df-spinner');\n",
              "      try {\n",
              "        const charts = await google.colab.kernel.invokeFunction(\n",
              "            'suggestCharts', [key], {});\n",
              "      } catch (error) {\n",
              "        console.error('Error during call to suggestCharts:', error);\n",
              "      }\n",
              "      quickchartButtonEl.classList.remove('colab-df-spinner');\n",
              "      quickchartButtonEl.classList.add('colab-df-quickchart-complete');\n",
              "    }\n",
              "    (() => {\n",
              "      let quickchartButtonEl =\n",
              "        document.querySelector('#df-8b99f169-681e-49f7-ada8-fd96d9c44581 button');\n",
              "      quickchartButtonEl.style.display =\n",
              "        google.colab.kernel.accessAllowed ? 'block' : 'none';\n",
              "    })();\n",
              "  </script>\n",
              "</div>\n",
              "\n",
              "    </div>\n",
              "  </div>\n"
            ],
            "application/vnd.google.colaboratory.intrinsic+json": {
              "type": "dataframe",
              "variable_name": "df",
              "summary": "{\n  \"name\": \"df\",\n  \"rows\": 400,\n  \"fields\": [\n    {\n      \"column\": \"1\",\n      \"properties\": {\n        \"dtype\": \"number\",\n        \"std\": 1.027597417216575,\n        \"min\": -3.1533574501910486,\n        \"max\": 3.432663431795559,\n        \"num_unique_values\": 400,\n        \"samples\": [\n          -0.6495935481591003,\n          -0.653824523313264,\n          -0.2272525093603447\n        ],\n        \"semantic_type\": \"\",\n        \"description\": \"\"\n      }\n    },\n    {\n      \"column\": \"2\",\n      \"properties\": {\n        \"dtype\": \"number\",\n        \"std\": 1.1747225410026072,\n        \"min\": -2.691016377473952,\n        \"max\": 3.369711307577492,\n        \"num_unique_values\": 400,\n        \"samples\": [\n          1.7529867915609656,\n          -1.0209768966910846,\n          0.4718669639648374\n        ],\n        \"semantic_type\": \"\",\n        \"description\": \"\"\n      }\n    },\n    {\n      \"column\": \"3\",\n      \"properties\": {\n        \"dtype\": \"number\",\n        \"std\": 1.0176138477503482,\n        \"min\": -3.053764380426305,\n        \"max\": 2.424306619264515,\n        \"num_unique_values\": 400,\n        \"samples\": [\n          1.4273293869368373,\n          -1.1906512335608763,\n          1.758759350083834\n        ],\n        \"semantic_type\": \"\",\n        \"description\": \"\"\n      }\n    },\n    {\n      \"column\": \"4\",\n      \"properties\": {\n        \"dtype\": \"number\",\n        \"std\": 0.9715333465351154,\n        \"min\": -2.181027967081949,\n        \"max\": 3.740248903704589,\n        \"num_unique_values\": 400,\n        \"samples\": [\n          0.6720285679819714,\n          0.6986479775844114,\n          -1.0237993163261987\n        ],\n        \"semantic_type\": \"\",\n        \"description\": \"\"\n      }\n    },\n    {\n      \"column\": \"5\",\n      \"properties\": {\n        \"dtype\": \"number\",\n        \"std\": 0.9923141805531237,\n        \"min\": -3.0160319852092985,\n        \"max\": 2.917308762873108,\n        \"num_unique_values\": 400,\n        \"samples\": [\n          -0.5890801512833148,\n          0.3594610656512876,\n          -0.727476109719801\n        ],\n        \"semantic_type\": \"\",\n        \"description\": \"\"\n      }\n    },\n    {\n      \"column\": \"6\",\n      \"properties\": {\n        \"dtype\": \"number\",\n        \"std\": 0.4256538960798334,\n        \"min\": -1.0549155265330197,\n        \"max\": 1.6803245718355486,\n        \"num_unique_values\": 400,\n        \"samples\": [\n          0.8836537242198045,\n          0.1288373240996586,\n          0.1713940261287372\n        ],\n        \"semantic_type\": \"\",\n        \"description\": \"\"\n      }\n    },\n    {\n      \"column\": \"7\",\n      \"properties\": {\n        \"dtype\": \"number\",\n        \"std\": 1.225607227540387,\n        \"min\": -3.703666029883607,\n        \"max\": 4.073310817581728,\n        \"num_unique_values\": 400,\n        \"samples\": [\n          -1.967250753075628,\n          -1.5948485594714836,\n          -0.2464632734204456\n        ],\n        \"semantic_type\": \"\",\n        \"description\": \"\"\n      }\n    },\n    {\n      \"column\": \"8\",\n      \"properties\": {\n        \"dtype\": \"number\",\n        \"std\": 0.9865833773328185,\n        \"min\": -2.664125939262139,\n        \"max\": 2.729462135445094,\n        \"num_unique_values\": 400,\n        \"samples\": [\n          0.530921212786579,\n          0.5812382717209089,\n          -1.2688589591737998\n        ],\n        \"semantic_type\": \"\",\n        \"description\": \"\"\n      }\n    },\n    {\n      \"column\": \"9\",\n      \"properties\": {\n        \"dtype\": \"number\",\n        \"std\": 1.3727796601745559,\n        \"min\": -4.542826592492687,\n        \"max\": 4.227227883206714,\n        \"num_unique_values\": 400,\n        \"samples\": [\n          2.2443539309085088,\n          1.7537032689148742,\n          0.2879753527029915\n        ],\n        \"semantic_type\": \"\",\n        \"description\": \"\"\n      }\n    },\n    {\n      \"column\": \"Target\",\n      \"properties\": {\n        \"dtype\": \"number\",\n        \"std\": 0,\n        \"min\": 0,\n        \"max\": 1,\n        \"num_unique_values\": 2,\n        \"samples\": [\n          0,\n          1\n        ],\n        \"semantic_type\": \"\",\n        \"description\": \"\"\n      }\n    }\n  ]\n}"
            }
          },
          "metadata": {},
          "execution_count": 3
        }
      ]
    },
    {
      "cell_type": "markdown",
      "source": [
        "Теперь нужно разделить на train и test c помощью train_test_split из sklearn, мы его уже импортировали.\n",
        "В качестве test_size выберите 0.25, а random_state = 1. Random state указывает, как должны генериться случаные числа. Указав его, мы будем всегда получать одни и те же значения, это поможет нам воспроизводить результат заново"
      ],
      "metadata": {
        "id": "PcPq0TmzpMXJ"
      }
    },
    {
      "cell_type": "code",
      "source": [
        "x=df.drop(columns='Target')\n",
        "y=df['Target']\n",
        "x_train,x_test,y_train,y_test=train_test_split(x,y,test_size=0.25,random_state=1)"
      ],
      "metadata": {
        "id": "qakSPLbYtm3E"
      },
      "execution_count": 4,
      "outputs": []
    },
    {
      "cell_type": "markdown",
      "source": [
        "Теперь все готово к написанию самой модели"
      ],
      "metadata": {
        "id": "P5oacblkugxR"
      }
    },
    {
      "cell_type": "markdown",
      "source": [
        "# **Задание 1. Градиентный спуск (9 баллов)**"
      ],
      "metadata": {
        "id": "PTIuiMyLuof7"
      }
    },
    {
      "cell_type": "markdown",
      "source": [
        "Наша модель должна быть в матричном виде. Bias будет включен в матрицу весов. Реализуем градиентный спуск.\n",
        "\n",
        "Вот несколько нужных формул:\n",
        "\n",
        "p - наши предсказанные значения\n",
        "\n",
        "1. Градиентный спуск:   $$\\nabla L(w) = - lr \\frac{\\partial}{\\partial w} L(w)$$\n",
        "\n",
        "2. Бинарная кросс энтропия:   $$ L(y, p) = -[y\\log(p) + (1-y)\\log(1-p)] $$\n",
        "\n",
        "3. Сигмоидное преобразование:  $$ p = \\sigma(z) = \\frac{1}{1 + e^{-z}} $$\n",
        "\n",
        "4. Регрессия $$ {z} = X w $$\n",
        "\n",
        "В нашем случае нам нужно получить производную функции потерь (Бинарная кросс энтропия) по W. Это и есть наши веса или коэффицниенты. Производная в данном случае будет сложная, и именно ее значения мы будем домножать на learning rate. Вы можете вычислить на прямую: $$ grad = \\frac{\\partial L(w)}{\\partial w} $$\n",
        "Но это тяжело, поэтому можно также сделать по-другому, воспользовавшись цепным правилом(Chain rule): $$ grad = \\frac{\\partial L( p )}{\\partial p} \\frac{\\partial \\sigma(z) }{\\partial z} \\frac{\\partial z }{\\partial w}$$\n",
        "\n",
        "Получится то же самое, но посчитать будет легче. Просто так получить градиент не выйдет, поле нахождения производных нужно сократить некоторые части (кстати, максимально сократить громоздкую формулу можно к одному перемножению и одному вычитанию)."
      ],
      "metadata": {
        "id": "ZUG8bu2Xu9GG"
      }
    },
    {
      "cell_type": "code",
      "source": [
        "def gradient_descent(X, weights, y_pred, y_real, learning_rate):\n",
        "\n",
        "    m, n = X.shape\n",
        "\n",
        "    grad=(1/m)*X.T @(y_pred-y_real)\n",
        "    weights-=learning_rate*grad\n",
        "\n",
        "    return weights\n",
        "\n",
        "def sigmoid(z):\n",
        "    return 1/(1+np.exp(-z))"
      ],
      "metadata": {
        "id": "WIr4LGJqntAm"
      },
      "execution_count": 11,
      "outputs": []
    },
    {
      "cell_type": "code",
      "source": [
        "# Ваш код тут"
      ],
      "metadata": {
        "id": "qROj3_Xn7M8H"
      },
      "execution_count": null,
      "outputs": []
    },
    {
      "cell_type": "markdown",
      "source": [
        "Эта часть кода покажет правильно ли вы реализовали градиентный спуск. Нужно просто запустить её, и если все было сделано правильно, то ошибок не произойдет. Возможен и вариант, что ваш градиентный спуск не прошел тест, но коэффициенты получились практически такими же. В этом случае попробуйте пойти дальше: обучить модель и посмотреть на результат обучения."
      ],
      "metadata": {
        "id": "r-3Ch-1Znuo0"
      }
    },
    {
      "cell_type": "code",
      "source": [
        "X = np.array([[1, 2], [3, 4], [5, 6]])\n",
        "weights = np.array([0.1, 0.2])\n",
        "y_real = np.array([3, 7, 11])\n",
        "\n",
        "y_pred = X @ weights\n",
        "\n",
        "learning_rate = 0.01\n",
        "weights_updated = gradient_descent(X, weights, y_pred, y_real, learning_rate)\n",
        "expected_weights_updated = np.array([0.32233333, 0.48133333])\n",
        "np.testing.assert_allclose(weights_updated, expected_weights_updated, rtol=1e-5)"
      ],
      "metadata": {
        "id": "fBo03fAJ9-Jp"
      },
      "execution_count": 12,
      "outputs": []
    },
    {
      "cell_type": "markdown",
      "source": [
        "# **Задание 2. Логистическая регрессия (5 баллов)**"
      ],
      "metadata": {
        "id": "-t3Mnf2fzJni"
      }
    },
    {
      "cell_type": "markdown",
      "source": [
        "Не забудьте, что у нас все в матричном виде, поэтому X и матрицу весов нужно немного изменить. В качестве метрики используйте f1_score. Мы пройдем ее на следующей неделе, пока нужно знать только, что чем ближе она к 1, тем лучше.\n",
        "Применяется она так f1_score(y_true, y_pred), где y_true - правильные значение, а y_pred - значения, предсказанные моделью.\n",
        "\n",
        "Если вам нужно, то краткий экскурс в ООП вы найдете тут: https://pythonchik.ru/osnovy/osnovy-oop-v-python-klassy-obekty-metody"
      ],
      "metadata": {
        "id": "fJnwEdpEzw7I"
      }
    },
    {
      "cell_type": "code",
      "source": [
        "class Logistic_Regression():\n",
        "    def __init__(self, num_of_columns):\n",
        "        # Инициализируем веса с учетом bias\n",
        "        self.weights = np.random.randn(num_of_columns + 1, 1)\n",
        "\n",
        "    def train(self, X, y, learning_rate, iterations_num):\n",
        "        # Добавляем bias в X\n",
        "        X_with_bias = np.hstack([np.ones((X.shape[0], 1)), X])\n",
        "        y = y.reshape(-1, 1)  # Изменяем размерность y на (n_samples, 1)\n",
        "\n",
        "        for step in range(iterations_num):\n",
        "            z = X_with_bias @ self.weights  # Вычисляем z\n",
        "            y_pred = self.sigmoid(z)  # Получаем предсказания\n",
        "\n",
        "            # Вычисляем градиент\n",
        "            error = y_pred - y  # y теперь имеет правильную размерность\n",
        "            grad = (1 / X.shape[0]) * (X_with_bias.T @ error)\n",
        "            self.weights -= learning_rate * grad  # Обновляем веса\n",
        "\n",
        "            # Выводим ошибку на первой и последней итерации\n",
        "            if step == 0 or step == iterations_num - 1:\n",
        "                loss = self.binary_cross_entropy(y, y_pred)\n",
        "                print(f\"Итерация {step}, ошибка: {loss}\")\n",
        "\n",
        "        # Округляем предсказания для вычисления f1\n",
        "        y_pred_rounded = np.where(y_pred >= 0.5, 1, 0)\n",
        "        return y_pred_rounded.flatten()  # Возвращаем одномерный массив\n",
        "\n",
        "    def sigmoid(self, z):\n",
        "        return 1 / (1 + np.exp(-z))\n",
        "\n",
        "    def binary_cross_entropy(self, y, y_pred):\n",
        "        # Функция потерь\n",
        "        return -np.mean(y * np.log(y_pred + 1e-15) + (1 - y) * np.log(1 - y_pred + 1e-15))\n",
        "\n",
        "    def predict(self, X):\n",
        "        X_with_bias = np.hstack([np.ones((X.shape[0], 1)), X])  # Добавляем bias\n",
        "        z = X_with_bias @ self.weights\n",
        "        preds = self.sigmoid(z)\n",
        "        return np.where(preds > 0.5, 1, 0)"
      ],
      "metadata": {
        "id": "RQhPCybFzI-O"
      },
      "execution_count": 51,
      "outputs": []
    },
    {
      "cell_type": "markdown",
      "source": [
        "Теперь обучим модель и проверим ее на тестовой выборке с помощью f1_score. Она должна быть больше 0.85 на тестовой выборке. Если у вас меньше, то вам нужно поменять параметры, например, увеличить learning rate или количество итераций"
      ],
      "metadata": {
        "id": "Al0K_8lkT9zw"
      }
    },
    {
      "cell_type": "code",
      "source": [
        "from sklearn.preprocessing import StandardScaler\n",
        "scaler = StandardScaler()\n",
        "if y_train.ndim == 1:\n",
        "    y_train = y_train.reshape(-1, 1)\n",
        "# Масштабируем обучающие данные\n",
        "x_train_scaled = scaler.fit_transform(x_train)\n",
        "\n",
        "# Масштабируем тестовые данные\n",
        "x_test_scaled = scaler.transform(x_test)\n",
        "model = Logistic_Regression(num_of_columns=x_train.shape[1])\n",
        "y_pred = model.train(x_train_scaled, y_train, learning_rate=0.001, iterations_num=1000)\n",
        "\n",
        "# Оценка вашей модели\n",
        "f1 = f1_score(y_test, y_pred)\n",
        "print(f\"F1 Score на тестовой выборке (ваша модель): {f1}\")"
      ],
      "metadata": {
        "id": "wlvzW0PA8Ord",
        "colab": {
          "base_uri": "https://localhost:8080/",
          "height": 346
        },
        "outputId": "8e8cb449-2dd5-4ee1-cd4d-850698788b34"
      },
      "execution_count": 58,
      "outputs": [
        {
          "output_type": "error",
          "ename": "ValueError",
          "evalue": "operands could not be broadcast together with shapes (300,1) (800,1) ",
          "traceback": [
            "\u001b[0;31m---------------------------------------------------------------------------\u001b[0m",
            "\u001b[0;31mValueError\u001b[0m                                Traceback (most recent call last)",
            "\u001b[0;32m<ipython-input-58-bfa7f85c6bf9>\u001b[0m in \u001b[0;36m<cell line: 11>\u001b[0;34m()\u001b[0m\n\u001b[1;32m      9\u001b[0m \u001b[0mx_test_scaled\u001b[0m \u001b[0;34m=\u001b[0m \u001b[0mscaler\u001b[0m\u001b[0;34m.\u001b[0m\u001b[0mtransform\u001b[0m\u001b[0;34m(\u001b[0m\u001b[0mx_test\u001b[0m\u001b[0;34m)\u001b[0m\u001b[0;34m\u001b[0m\u001b[0;34m\u001b[0m\u001b[0m\n\u001b[1;32m     10\u001b[0m \u001b[0mmodel\u001b[0m \u001b[0;34m=\u001b[0m \u001b[0mLogistic_Regression\u001b[0m\u001b[0;34m(\u001b[0m\u001b[0mnum_of_columns\u001b[0m\u001b[0;34m=\u001b[0m\u001b[0mx_train\u001b[0m\u001b[0;34m.\u001b[0m\u001b[0mshape\u001b[0m\u001b[0;34m[\u001b[0m\u001b[0;36m1\u001b[0m\u001b[0;34m]\u001b[0m\u001b[0;34m)\u001b[0m\u001b[0;34m\u001b[0m\u001b[0;34m\u001b[0m\u001b[0m\n\u001b[0;32m---> 11\u001b[0;31m \u001b[0my_pred\u001b[0m \u001b[0;34m=\u001b[0m \u001b[0mmodel\u001b[0m\u001b[0;34m.\u001b[0m\u001b[0mtrain\u001b[0m\u001b[0;34m(\u001b[0m\u001b[0mx_train_scaled\u001b[0m\u001b[0;34m,\u001b[0m \u001b[0my_train\u001b[0m\u001b[0;34m,\u001b[0m \u001b[0mlearning_rate\u001b[0m\u001b[0;34m=\u001b[0m\u001b[0;36m0.001\u001b[0m\u001b[0;34m,\u001b[0m \u001b[0miterations_num\u001b[0m\u001b[0;34m=\u001b[0m\u001b[0;36m1000\u001b[0m\u001b[0;34m)\u001b[0m\u001b[0;34m\u001b[0m\u001b[0;34m\u001b[0m\u001b[0m\n\u001b[0m\u001b[1;32m     12\u001b[0m \u001b[0;34m\u001b[0m\u001b[0m\n\u001b[1;32m     13\u001b[0m \u001b[0;31m# Оценка вашей модели\u001b[0m\u001b[0;34m\u001b[0m\u001b[0;34m\u001b[0m\u001b[0m\n",
            "\u001b[0;32m<ipython-input-51-c852cb3d06c7>\u001b[0m in \u001b[0;36mtrain\u001b[0;34m(self, X, y, learning_rate, iterations_num)\u001b[0m\n\u001b[1;32m     14\u001b[0m \u001b[0;34m\u001b[0m\u001b[0m\n\u001b[1;32m     15\u001b[0m             \u001b[0;31m# Вычисляем градиент\u001b[0m\u001b[0;34m\u001b[0m\u001b[0;34m\u001b[0m\u001b[0m\n\u001b[0;32m---> 16\u001b[0;31m             \u001b[0merror\u001b[0m \u001b[0;34m=\u001b[0m \u001b[0my_pred\u001b[0m \u001b[0;34m-\u001b[0m \u001b[0my\u001b[0m  \u001b[0;31m# y теперь имеет правильную размерность\u001b[0m\u001b[0;34m\u001b[0m\u001b[0;34m\u001b[0m\u001b[0m\n\u001b[0m\u001b[1;32m     17\u001b[0m             \u001b[0mgrad\u001b[0m \u001b[0;34m=\u001b[0m \u001b[0;34m(\u001b[0m\u001b[0;36m1\u001b[0m \u001b[0;34m/\u001b[0m \u001b[0mX\u001b[0m\u001b[0;34m.\u001b[0m\u001b[0mshape\u001b[0m\u001b[0;34m[\u001b[0m\u001b[0;36m0\u001b[0m\u001b[0;34m]\u001b[0m\u001b[0;34m)\u001b[0m \u001b[0;34m*\u001b[0m \u001b[0;34m(\u001b[0m\u001b[0mX_with_bias\u001b[0m\u001b[0;34m.\u001b[0m\u001b[0mT\u001b[0m \u001b[0;34m@\u001b[0m \u001b[0merror\u001b[0m\u001b[0;34m)\u001b[0m\u001b[0;34m\u001b[0m\u001b[0;34m\u001b[0m\u001b[0m\n\u001b[1;32m     18\u001b[0m             \u001b[0mself\u001b[0m\u001b[0;34m.\u001b[0m\u001b[0mweights\u001b[0m \u001b[0;34m-=\u001b[0m \u001b[0mlearning_rate\u001b[0m \u001b[0;34m*\u001b[0m \u001b[0mgrad\u001b[0m  \u001b[0;31m# Обновляем веса\u001b[0m\u001b[0;34m\u001b[0m\u001b[0;34m\u001b[0m\u001b[0m\n",
            "\u001b[0;31mValueError\u001b[0m: operands could not be broadcast together with shapes (300,1) (800,1) "
          ]
        }
      ]
    },
    {
      "cell_type": "markdown",
      "source": [
        "# **Задание 3. Логистическая регрессия в Sklearn (6 баллов)**"
      ],
      "metadata": {
        "id": "KNKr36SqBBYL"
      }
    },
    {
      "cell_type": "code",
      "source": [
        "from sklearn.linear_model import LogisticRegression\n",
        "from sklearn.svm import SVC"
      ],
      "metadata": {
        "id": "oQivcBsqfQXt"
      },
      "execution_count": 24,
      "outputs": []
    },
    {
      "cell_type": "markdown",
      "source": [
        "Теперь, написав свою модель, ее можно сравнить с моделью из Sklearn, обучите LogisticRegression и также проверьте на тестовой выборке по f1_score\n"
      ],
      "metadata": {
        "id": "usoTGzh7VA9E"
      }
    },
    {
      "cell_type": "code",
      "source": [
        "X = np.random.rand(1000, 10)\n",
        "y = np.random.randint(0, 2, 1000)\n",
        "X_train, X_test, y_train, y_test = train_test_split(X, y, test_size=0.2, random_state=42)\n",
        "\n",
        "model = LogisticRegression()\n",
        "model.fit(X_train, y_train)\n",
        "\n",
        "y_pred = model.predict(X_test)\n",
        "f1=f1_score(y_test,y_pred)\n",
        "print(f\"F1 Score (Logistic Regression): {f1:.4f}\")"
      ],
      "metadata": {
        "id": "za_HS8PQBNU6",
        "colab": {
          "base_uri": "https://localhost:8080/"
        },
        "outputId": "866b94cf-ffe0-4ff1-88ac-5aa785d988ca"
      },
      "execution_count": 42,
      "outputs": [
        {
          "output_type": "stream",
          "name": "stdout",
          "text": [
            "F1 Score (Logistic Regression): 0.4520\n"
          ]
        }
      ]
    },
    {
      "cell_type": "markdown",
      "source": [
        "Логичесческая регрессия модель хорошая, но не лучшая. Давайте теперь попробуем построить SVM из Sklearn. Все также: обучите ее и проверьте на тестовой выборке."
      ],
      "metadata": {
        "id": "cbTTLlfYPn10"
      }
    },
    {
      "cell_type": "code",
      "source": [
        "X = np.random.rand(1000, 10)\n",
        "y = np.random.randint(0, 2, 1000)\n",
        "X_train, X_test, y_train, y_test = train_test_split(X, y, test_size=0.2, random_state=42)\n",
        "model=SVC(kernel='linear')\n",
        "model.fit(X_train,y_train)\n",
        "y_pred=model.predict(X_test)\n",
        "f1=f1_score(y_test,y_pred)\n",
        "print(f\"F1 Score (SVM): {f1:.4f}\")"
      ],
      "metadata": {
        "id": "-f26KCTTP9hg",
        "colab": {
          "base_uri": "https://localhost:8080/"
        },
        "outputId": "c43add3e-4944-492b-8734-8ffd829a20ef"
      },
      "execution_count": 28,
      "outputs": [
        {
          "output_type": "stream",
          "name": "stdout",
          "text": [
            "F1 Score (SVM): 0.5249\n"
          ]
        }
      ]
    }
  ]
}